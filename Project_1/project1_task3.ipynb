{
 "cells": [
  {
   "cell_type": "markdown",
   "metadata": {},
   "source": [
    "# Task 3"
   ]
  },
  {
   "cell_type": "markdown",
   "metadata": {},
   "source": [
    "There are time-limited monthly events in the game named Plants & Gardens. The rewards in these events are unique items for gardens and characters, extra coins and bonuses. To get a reward a player should complete a set of levels for a given time. Which metrics can be used to evaluate a recent game event?\n",
    "\n",
    "Let's assume there's another game event with a more complicated mechanics, so that after each failure a player's progress would roll several levels back. Which metrics can be used to evaluate this event?"
   ]
  },
  {
   "cell_type": "markdown",
   "metadata": {},
   "source": [
    "## Possible metrics for the first event:\n",
    "\n",
    "To evaluate the event appeal:\n",
    "- DAU\n",
    "- Number of players participated in the event\n",
    "- Ratio of players who completed the event to the total number of participants\n",
    "- Average play time during the event\n",
    "\n",
    "To evaluate the event's profit:\n",
    "- ARPU\n",
    "\n",
    "To evaluate the event's ability to attract and retain users:\n",
    "- Conversion rate \n",
    "- Retention rate\n",
    "- Average play time during the event"
   ]
  },
  {
   "cell_type": "markdown",
   "metadata": {},
   "source": [
    "## Possible metrics for the second event:\n",
    "We could use here the same metrics as for the first event. Also we should keep the level difficulty balanced and users motivated to play, especially after rollbacks. To evaluate that we could use the following metrics:\n",
    "* Churn rate\n",
    "* Average attempts to complete a level\n",
    "* (Average) number of rollbacks\n",
    "* Average number of completed levels before rollback\n",
    "* Ratio of players who completed the event without rollbacks to the total number of players who completed the event"
   ]
  }
 ],
 "metadata": {
  "kernelspec": {
   "display_name": "Python 3",
   "language": "python",
   "name": "python3"
  },
  "language_info": {
   "codemirror_mode": {
    "name": "ipython",
    "version": 3
   },
   "file_extension": ".py",
   "mimetype": "text/x-python",
   "name": "python",
   "nbconvert_exporter": "python",
   "pygments_lexer": "ipython3",
   "version": "3.7.6"
  }
 },
 "nbformat": 4,
 "nbformat_minor": 4
}
