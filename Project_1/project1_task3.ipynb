{
 "cells": [
  {
   "cell_type": "markdown",
   "metadata": {},
   "source": [
    "# Task 3"
   ]
  },
  {
   "cell_type": "markdown",
   "metadata": {},
   "source": [
    "There are time-limited monthly events in the game named Plants & Gardens. The rewards in these events are unique items for gardens and characters, extra coins and bonuses. To get a reward a player should complete a set of levels for a given time. Which metrics can be used to evaluate a recent game event?\n",
    "\n",
    "Let's assume there's another game event with a more complicated mechanics, so that after each failure a player's progress would roll several levels back. Which metrics can be used to evaluate this event?"
   ]
  },
  {
   "cell_type": "markdown",
   "metadata": {},
   "source": [
    "## Possible metrics for the first event:\n",
    "* Number of players participated in the event\n",
    "* DAU\n",
    "* ARPU, ARPPU\n",
    "* Average play time during the event\n",
    "* Players time session\n",
    "* Average time for getting a reward\n",
    "* Ratio of players who completed the event to the total number of participants"
   ]
  },
  {
   "cell_type": "markdown",
   "metadata": {},
   "source": [
    "## Possible metrics for the second event:\n",
    "The same as for the first one, including:\n",
    "* Churn rate\n",
    "* Average attempts to complete a level\n",
    "* (Average) number of rollbacks\n",
    "* Average number of completed levels before rollback\n",
    "* Ratio of players who completed the event without rollbacks to the total number of players who completed the event"
   ]
  }
 ],
 "metadata": {
  "kernelspec": {
   "display_name": "Python 3",
   "language": "python",
   "name": "python3"
  },
  "language_info": {
   "codemirror_mode": {
    "name": "ipython",
    "version": 3
   },
   "file_extension": ".py",
   "mimetype": "text/x-python",
   "name": "python",
   "nbconvert_exporter": "python",
   "pygments_lexer": "ipython3",
   "version": "3.7.6"
  }
 },
 "nbformat": 4,
 "nbformat_minor": 4
}
