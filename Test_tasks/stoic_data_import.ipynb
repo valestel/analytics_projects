{
 "cells": [
  {
   "cell_type": "code",
   "execution_count": null,
   "metadata": {},
   "outputs": [],
   "source": [
    "import os\n",
    "import pandas as pd\n",
    "import re"
   ]
  },
  {
   "cell_type": "code",
   "execution_count": null,
   "metadata": {},
   "outputs": [],
   "source": [
    "def pickle_csv(csv_path):\n",
    "    events = pd.DataFrame()\n",
    "    csv_files = list(os.listdir(csv_path))\n",
    "    csv_files.sort(key=lambda f: int(re.sub('\\D', '', f)))\n",
    "    for file in csv_files:\n",
    "        print(f'Processing {file}')\n",
    "        cur_df = pd.read_csv(os.path.join(csv_path, file), index_col=0, low_memory=False)\n",
    "        events = pd.concat([events,cur_df])\n",
    "    events.to_pickle('./events_pickled')\n",
    "    print('All files combined and pickled')"
   ]
  },
  {
   "cell_type": "code",
   "execution_count": null,
   "metadata": {},
   "outputs": [],
   "source": [
    "pickle_csv('./stoic_amplitude_csv')"
   ]
  },
  {
   "cell_type": "code",
   "execution_count": null,
   "metadata": {},
   "outputs": [],
   "source": []
  }
 ],
 "metadata": {
  "kernelspec": {
   "display_name": "Python 3",
   "language": "python",
   "name": "python3"
  },
  "language_info": {
   "codemirror_mode": {
    "name": "ipython",
    "version": 3
   },
   "file_extension": ".py",
   "mimetype": "text/x-python",
   "name": "python",
   "nbconvert_exporter": "python",
   "pygments_lexer": "ipython3",
   "version": "3.7.6"
  }
 },
 "nbformat": 4,
 "nbformat_minor": 4
}
